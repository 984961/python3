{
  "nbformat": 4,
  "nbformat_minor": 0,
  "metadata": {
    "colab": {
      "provenance": []
    },
    "kernelspec": {
      "name": "python3",
      "display_name": "Python 3"
    },
    "language_info": {
      "name": "python"
    }
  },
  "cells": [
    {
      "cell_type": "code",
      "execution_count": null,
      "metadata": {
        "id": "qsKDrei8qCot"
      },
      "outputs": [],
      "source": []
    },
    {
      "cell_type": "markdown",
      "source": [
        "#Problem 1: Probability below a value\n",
        "###Q: The average height of adult males is 175 cm with a standard deviation of 10 cm. What is the probability that a randomly selected male is shorter than 160 cm?"
      ],
      "metadata": {
        "id": "JaXxY9nCqDaB"
      }
    },
    {
      "cell_type": "code",
      "source": [
        "mean=175\n",
        "standard_deviation=10\n",
        "value=160"
      ],
      "metadata": {
        "id": "3T9DrEaJqHP1"
      },
      "execution_count": 6,
      "outputs": []
    },
    {
      "cell_type": "code",
      "source": [
        "z=(value-mean)/standard_deviation\n",
        "print(z)"
      ],
      "metadata": {
        "colab": {
          "base_uri": "https://localhost:8080/"
        },
        "id": "dkQOniNMqrCn",
        "outputId": "222c5a54-8118-4327-c3b5-02295c8661e0"
      },
      "execution_count": 7,
      "outputs": [
        {
          "output_type": "stream",
          "name": "stdout",
          "text": [
            "-1.5\n"
          ]
        }
      ]
    },
    {
      "cell_type": "code",
      "source": [
        "from scipy.stats import norm\n",
        "\n",
        "# Given values\n",
        "mean = 175\n",
        "std_dev = 10\n",
        "x = 160\n",
        "\n",
        "# Calculate probability\n",
        "probability = norm.cdf(x, loc=mean, scale=std_dev)\n",
        "print(f\"Probability that a male is shorter than 160 cm: {probability:.4f}\")"
      ],
      "metadata": {
        "colab": {
          "base_uri": "https://localhost:8080/"
        },
        "id": "2616imN7qyTU",
        "outputId": "c9b87386-f326-491c-8316-2365eb2e4429"
      },
      "execution_count": 8,
      "outputs": [
        {
          "output_type": "stream",
          "name": "stdout",
          "text": [
            "Probability that a male is shorter than 160 cm: 0.0668\n"
          ]
        }
      ]
    },
    {
      "cell_type": "code",
      "source": [
        "print(\"i'_m_a_boy\")"
      ],
      "metadata": {
        "colab": {
          "base_uri": "https://localhost:8080/"
        },
        "id": "FPKi3KdnrnN7",
        "outputId": "120e9c7c-e44d-496d-9631-2e5ea626e775"
      },
      "execution_count": 12,
      "outputs": [
        {
          "output_type": "stream",
          "name": "stdout",
          "text": [
            "i'_m_a_boy\n"
          ]
        }
      ]
    },
    {
      "cell_type": "code",
      "source": [
        "name=('mohanreddy')\n",
        "college=('siddharth institute of engineering and technology')"
      ],
      "metadata": {
        "id": "4LhrhOyqyV1d"
      },
      "execution_count": 13,
      "outputs": []
    },
    {
      "cell_type": "code",
      "source": [
        "type('name , college')\n",
        "print(type(name))\n",
        "print(type(college))"
      ],
      "metadata": {
        "colab": {
          "base_uri": "https://localhost:8080/"
        },
        "id": "y5G-Q4DS0Ew0",
        "outputId": "6f55464b-43c0-433c-c2c3-3c6745766c12"
      },
      "execution_count": 16,
      "outputs": [
        {
          "output_type": "stream",
          "name": "stdout",
          "text": [
            "<class 'str'>\n",
            "<class 'str'>\n"
          ]
        }
      ]
    },
    {
      "cell_type": "code",
      "source": [
        "len('name, college')\n",
        "print(len(name))\n",
        "print(len(college))"
      ],
      "metadata": {
        "colab": {
          "base_uri": "https://localhost:8080/"
        },
        "id": "eNxDrZJo0O1E",
        "outputId": "0ed6a345-85fb-4a6c-9b5f-f10bfa3c3d4e"
      },
      "execution_count": 17,
      "outputs": [
        {
          "output_type": "stream",
          "name": "stdout",
          "text": [
            "10\n",
            "49\n"
          ]
        }
      ]
    },
    {
      "cell_type": "code",
      "source": [
        "index=college[7]\n",
        "print(index)"
      ],
      "metadata": {
        "colab": {
          "base_uri": "https://localhost:8080/"
        },
        "id": "YDxemYXH0raW",
        "outputId": "7d09cb51-3ffa-4bfb-ef73-51dc54200d5e"
      },
      "execution_count": 21,
      "outputs": [
        {
          "output_type": "stream",
          "name": "stdout",
          "text": [
            "t\n"
          ]
        }
      ]
    },
    {
      "cell_type": "code",
      "source": [
        "string=name[0:5]\n",
        "print(string)"
      ],
      "metadata": {
        "colab": {
          "base_uri": "https://localhost:8080/"
        },
        "id": "YLOGR1mj1MGg",
        "outputId": "6ec6e75f-2124-479a-bb8c-275631d3a87f"
      },
      "execution_count": 25,
      "outputs": [
        {
          "output_type": "stream",
          "name": "stdout",
          "text": [
            "mohan\n"
          ]
        }
      ]
    },
    {
      "cell_type": "code",
      "source": [
        "string=name[5:10]\n",
        "print(string)"
      ],
      "metadata": {
        "colab": {
          "base_uri": "https://localhost:8080/"
        },
        "id": "Cjxs0d2O3Sn9",
        "outputId": "eaa77421-3114-44cd-84e2-699604865b41"
      },
      "execution_count": 27,
      "outputs": [
        {
          "output_type": "stream",
          "name": "stdout",
          "text": [
            "reddy\n"
          ]
        }
      ]
    },
    {
      "cell_type": "code",
      "source": [
        "string=name[3:8]\n",
        "print(string)"
      ],
      "metadata": {
        "colab": {
          "base_uri": "https://localhost:8080/"
        },
        "id": "xmSKCgKj3wiC",
        "outputId": "52c2cd1b-71ac-4101-de84-6b38fff4e3d2"
      },
      "execution_count": 29,
      "outputs": [
        {
          "output_type": "stream",
          "name": "stdout",
          "text": [
            "anred\n"
          ]
        }
      ]
    },
    {
      "cell_type": "code",
      "source": [
        "print(college[0:34])"
      ],
      "metadata": {
        "colab": {
          "base_uri": "https://localhost:8080/"
        },
        "id": "wJ2iaXAK4AzP",
        "outputId": "ed863512-e0e1-4f42-fb46-eaff9b5be3d3"
      },
      "execution_count": 30,
      "outputs": [
        {
          "output_type": "stream",
          "name": "stdout",
          "text": [
            "siddharth institute of engineering\n"
          ]
        }
      ]
    },
    {
      "cell_type": "code",
      "source": [],
      "metadata": {
        "id": "_M-BKumQ4RaD"
      },
      "execution_count": null,
      "outputs": []
    }
  ]
}